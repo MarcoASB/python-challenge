{
 "cells": [
  {
   "cell_type": "markdown",
   "metadata": {},
   "source": [
    "## PyPoll\n",
    "Python script that analyzes the votes and calculates each of the following:\n",
    "\n",
    "    * The total number of votes cast\n",
    "    * A complete list of candidates who received votes\n",
    "    * The percentage of votes each candidate won\n",
    "    * The total number of votes each candidate won\n",
    "    * The winner of the election based on popular vote.\n"
   ]
  },
  {
   "cell_type": "code",
   "execution_count": 2,
   "metadata": {},
   "outputs": [
    {
     "data": {
      "text/html": [
       "<div>\n",
       "<style scoped>\n",
       "    .dataframe tbody tr th:only-of-type {\n",
       "        vertical-align: middle;\n",
       "    }\n",
       "\n",
       "    .dataframe tbody tr th {\n",
       "        vertical-align: top;\n",
       "    }\n",
       "\n",
       "    .dataframe thead th {\n",
       "        text-align: right;\n",
       "    }\n",
       "</style>\n",
       "<table border=\"1\" class=\"dataframe\">\n",
       "  <thead>\n",
       "    <tr style=\"text-align: right;\">\n",
       "      <th></th>\n",
       "      <th>Voter ID</th>\n",
       "      <th>County</th>\n",
       "      <th>Candidate</th>\n",
       "    </tr>\n",
       "  </thead>\n",
       "  <tbody>\n",
       "    <tr>\n",
       "      <td>0</td>\n",
       "      <td>12864552</td>\n",
       "      <td>Marsh</td>\n",
       "      <td>Khan</td>\n",
       "    </tr>\n",
       "    <tr>\n",
       "      <td>1</td>\n",
       "      <td>17444633</td>\n",
       "      <td>Marsh</td>\n",
       "      <td>Correy</td>\n",
       "    </tr>\n",
       "    <tr>\n",
       "      <td>2</td>\n",
       "      <td>19330107</td>\n",
       "      <td>Marsh</td>\n",
       "      <td>Khan</td>\n",
       "    </tr>\n",
       "    <tr>\n",
       "      <td>3</td>\n",
       "      <td>19865775</td>\n",
       "      <td>Queen</td>\n",
       "      <td>Khan</td>\n",
       "    </tr>\n",
       "    <tr>\n",
       "      <td>4</td>\n",
       "      <td>11927875</td>\n",
       "      <td>Marsh</td>\n",
       "      <td>Khan</td>\n",
       "    </tr>\n",
       "  </tbody>\n",
       "</table>\n",
       "</div>"
      ],
      "text/plain": [
       "   Voter ID County Candidate\n",
       "0  12864552  Marsh      Khan\n",
       "1  17444633  Marsh    Correy\n",
       "2  19330107  Marsh      Khan\n",
       "3  19865775  Queen      Khan\n",
       "4  11927875  Marsh      Khan"
      ]
     },
     "execution_count": 2,
     "metadata": {},
     "output_type": "execute_result"
    }
   ],
   "source": [
    "import pandas as pd\n",
    "data = pd.read_csv('Resources/election_data.csv')\n",
    "data.head()"
   ]
  },
  {
   "cell_type": "code",
   "execution_count": 9,
   "metadata": {},
   "outputs": [
    {
     "data": {
      "text/plain": [
       "3521001"
      ]
     },
     "execution_count": 9,
     "metadata": {},
     "output_type": "execute_result"
    }
   ],
   "source": [
    "# The total number of votes cast\n",
    "number_votes = len(data)\n",
    "number_votes"
   ]
  },
  {
   "cell_type": "code",
   "execution_count": 7,
   "metadata": {},
   "outputs": [
    {
     "data": {
      "text/plain": [
       "array(['Khan', 'Correy', 'Li', \"O'Tooley\"], dtype=object)"
      ]
     },
     "execution_count": 7,
     "metadata": {},
     "output_type": "execute_result"
    }
   ],
   "source": [
    "# A complete list of candidates who received votes\n",
    "candidates = data.Candidate.unique()\n",
    "candidates"
   ]
  },
  {
   "cell_type": "code",
   "execution_count": 41,
   "metadata": {},
   "outputs": [
    {
     "data": {
      "text/html": [
       "<div>\n",
       "<style scoped>\n",
       "    .dataframe tbody tr th:only-of-type {\n",
       "        vertical-align: middle;\n",
       "    }\n",
       "\n",
       "    .dataframe tbody tr th {\n",
       "        vertical-align: top;\n",
       "    }\n",
       "\n",
       "    .dataframe thead th {\n",
       "        text-align: right;\n",
       "    }\n",
       "</style>\n",
       "<table border=\"1\" class=\"dataframe\">\n",
       "  <thead>\n",
       "    <tr style=\"text-align: right;\">\n",
       "      <th></th>\n",
       "      <th>Count</th>\n",
       "      <th>Percentage</th>\n",
       "    </tr>\n",
       "    <tr>\n",
       "      <th>Candidate</th>\n",
       "      <th></th>\n",
       "      <th></th>\n",
       "    </tr>\n",
       "  </thead>\n",
       "  <tbody>\n",
       "    <tr>\n",
       "      <td>Correy</td>\n",
       "      <td>704200</td>\n",
       "      <td>20.0</td>\n",
       "    </tr>\n",
       "    <tr>\n",
       "      <td>Khan</td>\n",
       "      <td>2218231</td>\n",
       "      <td>63.0</td>\n",
       "    </tr>\n",
       "    <tr>\n",
       "      <td>Li</td>\n",
       "      <td>492940</td>\n",
       "      <td>14.0</td>\n",
       "    </tr>\n",
       "    <tr>\n",
       "      <td>O'Tooley</td>\n",
       "      <td>105630</td>\n",
       "      <td>3.0</td>\n",
       "    </tr>\n",
       "  </tbody>\n",
       "</table>\n",
       "</div>"
      ],
      "text/plain": [
       "             Count  Percentage\n",
       "Candidate                     \n",
       "Correy      704200        20.0\n",
       "Khan       2218231        63.0\n",
       "Li          492940        14.0\n",
       "O'Tooley    105630         3.0"
      ]
     },
     "execution_count": 41,
     "metadata": {},
     "output_type": "execute_result"
    }
   ],
   "source": [
    "# The percentage of votes each candidate won\n",
    "data['Count'] = 1\n",
    "votes = data[['Count','Candidate']].groupby('Candidate').count()\n",
    "votes['Percentage'] = round(votes.Count/number_votes*100,2)\n",
    "votes\n"
   ]
  },
  {
   "cell_type": "code",
   "execution_count": null,
   "metadata": {},
   "outputs": [],
   "source": [
    "# The total number of votes each candidate won\n"
   ]
  },
  {
   "cell_type": "code",
   "execution_count": 46,
   "metadata": {},
   "outputs": [
    {
     "data": {
      "text/plain": [
       "'Khan'"
      ]
     },
     "execution_count": 46,
     "metadata": {},
     "output_type": "execute_result"
    }
   ],
   "source": [
    "# The winner of the election based on popular vote.\n",
    "max_votes = votes.Count.max()\n",
    "winner_row = votes.loc[votes['Count'] == max_votes]\n",
    "winner = winner_row.index[0]\n",
    "winner"
   ]
  },
  {
   "cell_type": "code",
   "execution_count": 68,
   "metadata": {},
   "outputs": [
    {
     "name": "stdout",
     "output_type": "stream",
     "text": [
      "Election Results\n",
      "-------------------------\n",
      "Total Votes:  3521001\n",
      "-------------------------\n",
      "Khan: 63.0% (2218231)\n",
      "Correy: 20.0% (704200)\n",
      "Li: 14.0% (492940)\n",
      "O'Tooley: 3.0% (105630)\n",
      "-------------------------\n",
      "Winner:  Khan\n",
      "-------------------------\n"
     ]
    }
   ],
   "source": [
    "print(\"Election Results\")\n",
    "print(\"-------------------------\")\n",
    "print(f\"Total Votes: \",len(data))\n",
    "print(\"-------------------------\")\n",
    "print(\"{}: {}% ({})\".format(candidates[0],\n",
    "                            votes.loc[votes.index == candidates[0]]['Percentage'][0],\n",
    "                            votes.loc[votes.index == candidates[0]]['Count'][0]))\n",
    "print(\"{}: {}% ({})\".format(candidates[1],\n",
    "                            votes.loc[votes.index == candidates[1]]['Percentage'][0],\n",
    "                            votes.loc[votes.index == candidates[1]]['Count'][0]))\n",
    "print(\"{}: {}% ({})\".format(candidates[2],\n",
    "                            votes.loc[votes.index == candidates[2]]['Percentage'][0],\n",
    "                            votes.loc[votes.index == candidates[2]]['Count'][0]))\n",
    "print(\"{}: {}% ({})\".format(candidates[3],\n",
    "                            votes.loc[votes.index == candidates[3]]['Percentage'][0],\n",
    "                            votes.loc[votes.index == candidates[3]]['Count'][0]))\n",
    "print(\"-------------------------\")\n",
    "print(f\"Winner: \",winner)\n",
    "print(\"-------------------------\")"
   ]
  },
  {
   "cell_type": "code",
   "execution_count": 119,
   "metadata": {},
   "outputs": [],
   "source": [
    "# Import dependecies\n",
    "import pandas as pd\n",
    "data = pd.read_csv('Resources/election_data.csv')\n",
    "\n",
    "# A complete list of candidates who received votes\n",
    "def candidates (data):\n",
    "    list_candidates = data.Candidate.unique()\n",
    "    return list_candidates\n",
    "\n",
    "# Count and percentage of candidates\n",
    "def votes (data):\n",
    "    data['Count'] = 1\n",
    "    votes = data[['Count','Candidate']].groupby('Candidate').count()\n",
    "    votes['Percentage'] = round(votes.Count/number_votes*100,2)\n",
    "    return votes\n",
    "\n",
    "# The winner of the election based on popular vote.\n",
    "def winner (data):\n",
    "    data['Count'] = 1\n",
    "    votes = data[['Count','Candidate']].groupby('Candidate').count()\n",
    "    votes['Percentage'] = round(votes.Count/number_votes*100,2)\n",
    "    max_votes = votes['Count'].max()\n",
    "    winner_row = votes.loc[votes['Count'] == max_votes]\n",
    "    winner = winner_row.index[0]\n",
    "    return winner\n",
    "\n",
    "def report(data):\n",
    "    candidates_list = candidates(data)\n",
    "    can_votes = votes(data)\n",
    "    can_winner = winner(data)\n",
    "    print(\"Election Results\")\n",
    "    print(\"-------------------------\")\n",
    "    print(f\"Total Votes: \",len(data))\n",
    "    print(\"-------------------------\")\n",
    "    print(\"{}: {}% ({})\".format(candidates_list[0],\n",
    "                                can_votes.loc[can_votes.index == candidates_list[0]]['Percentage'][0],\n",
    "                                can_votes.loc[can_votes.index == candidates_list[0]]['Count'][0]))\n",
    "    print(\"{}: {}% ({})\".format(candidates_list[1],\n",
    "                                can_votes.loc[can_votes.index == candidates_list[1]]['Percentage'][0],\n",
    "                                can_votes.loc[can_votes.index == candidates_list[1]]['Count'][0]))\n",
    "    print(\"{}: {}% ({})\".format(candidates_list[2],\n",
    "                                can_votes.loc[can_votes.index == candidates_list[2]]['Percentage'][0],\n",
    "                                can_votes.loc[can_votes.index == candidates_list[2]]['Count'][0]))\n",
    "    print(\"{}: {}% ({})\".format(candidates_list[3],\n",
    "                                can_votes.loc[can_votes.index == candidates_list[3]]['Percentage'][0],\n",
    "                                can_votes.loc[can_votes.index == candidates_list[3]]['Count'][0]))\n",
    "    print(\"-------------------------\")\n",
    "    print(f\"Winner: \",can_winner)\n",
    "    print(\"-------------------------\")"
   ]
  },
  {
   "cell_type": "code",
   "execution_count": 120,
   "metadata": {},
   "outputs": [
    {
     "name": "stdout",
     "output_type": "stream",
     "text": [
      "Election Results\n",
      "-------------------------\n",
      "Total Votes:  3521001\n",
      "-------------------------\n",
      "Khan: 63.0% (2218231)\n",
      "Correy: 20.0% (704200)\n",
      "Li: 14.0% (492940)\n",
      "O'Tooley: 3.0% (105630)\n",
      "-------------------------\n",
      "Winner:  Khan\n",
      "-------------------------\n"
     ]
    }
   ],
   "source": [
    "report(data)"
   ]
  },
  {
   "cell_type": "code",
   "execution_count": null,
   "metadata": {},
   "outputs": [],
   "source": []
  }
 ],
 "metadata": {
  "kernelspec": {
   "display_name": "Python 3",
   "language": "python",
   "name": "python3"
  },
  "language_info": {
   "codemirror_mode": {
    "name": "ipython",
    "version": 3
   },
   "file_extension": ".py",
   "mimetype": "text/x-python",
   "name": "python",
   "nbconvert_exporter": "python",
   "pygments_lexer": "ipython3",
   "version": "3.7.4"
  }
 },
 "nbformat": 4,
 "nbformat_minor": 2
}
