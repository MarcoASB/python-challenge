{
 "cells": [
  {
   "cell_type": "markdown",
   "metadata": {},
   "source": [
    "## PyBank\n",
    "\n",
    "Create a Python script that analyzes the records to calculate each of the following:\n",
    "    * The total number of months included in the dataset\n",
    "    * The net total amount of \"Profit/Losses\" over the entire period\n",
    "    * The average of the changes in \"Profit/Losses\" over the entire period\n",
    "    * The greatest increase in profits (date and amount) over the entire period\n",
    "    * The greatest decrease in losses (date and amount) over the entire period\n"
   ]
  },
  {
   "cell_type": "code",
   "execution_count": 10,
   "metadata": {},
   "outputs": [],
   "source": [
    "# Import dependecies\n",
    "import os\n",
    "import csv\n",
    "import pandas as pd\n",
    "dataset = pd.read_csv('Resources/budget_data.csv')\n",
    "\n",
    "# The net total amount of \"Profit/Losses\" over the entire period\n",
    "def profit (dataset):\n",
    "    profit = dataset['Profit/Losses'].sum()\n",
    "    return profit\n",
    "\n",
    "#The average of the changes in \"Profit/Losses\" over the entire period\n",
    "def avg(dataset): \n",
    "    dataset['change'] = dataset['Profit/Losses'] - dataset['Profit/Losses'].shift(1)\n",
    "    avg_change = round((dataset['change'].sum()/(len(dataset)-1)),2)\n",
    "    return avg_change\n",
    "\n",
    "#The greatest increase in profits (date and amount) over the entire period\n",
    "def best (dataset):\n",
    "    best_increase = dataset['change'].max()\n",
    "    row = dataset.loc[dataset['change'] == best_increase]\n",
    "    best_date = row.iloc[0]['Date']\n",
    "    return best_date, best_increase\n",
    "\n",
    "#The greatest increase in profits (date and amount) over the entire period\n",
    "def worst (dataset):\n",
    "    best_decrease = dataset['change'].min()\n",
    "    row = dataset.loc[dataset['change'] == best_decrease]\n",
    "    worst_date = row.iloc[0]['Date']\n",
    "    return worst_date, best_decrease"
   ]
  },
  {
   "cell_type": "code",
   "execution_count": 11,
   "metadata": {},
   "outputs": [],
   "source": [
    "#Run the program and print the result \n",
    "def report(dataset):\n",
    "    # The total number of months included in the dataset\n",
    "    months = len(dataset)\n",
    "    profit_rep = profit(dataset)\n",
    "    avg_change_rep = avg(dataset)\n",
    "    best_date_rep = best(dataset)[0]\n",
    "    best_increase_rep = best(dataset)[1]\n",
    "    worst_date_rep = worst(dataset)[0]\n",
    "    best_decrease_rep = worst(dataset)[1]\n",
    "    print (\"\")\n",
    "    print (\"Financial Analysis\")\n",
    "    print (\"--------------------\")\n",
    "    print (f'Total Months: {months}') \n",
    "    print (f'P & L : ${profit_rep}')\n",
    "    print (f'Average change: ${avg_change_rep}')\n",
    "    print (f'Greatest Increase in Profits: {best_date_rep} ${best_increase_rep}')\n",
    "    print (f'Greatest Decrease in Profits: {worst_date_rep} ${best_decrease_rep}')\n",
    "    print (\"\")"
   ]
  },
  {
   "cell_type": "code",
   "execution_count": 12,
   "metadata": {},
   "outputs": [
    {
     "name": "stdout",
     "output_type": "stream",
     "text": [
      "\n",
      "Financial Analysis\n",
      "--------------------\n",
      "Total Months: 86\n",
      "P & L : $38382578\n",
      "Average change: $-2315.12\n",
      "Greatest Increase in Profits: Feb-2012 $1926159.0\n",
      "Greatest Decrease in Profits: Sep-2013 $-2196167.0\n",
      "\n"
     ]
    }
   ],
   "source": [
    "report(dataset)"
   ]
  },
  {
   "cell_type": "code",
   "execution_count": null,
   "metadata": {},
   "outputs": [],
   "source": []
  }
 ],
 "metadata": {
  "kernelspec": {
   "display_name": "Python 3",
   "language": "python",
   "name": "python3"
  },
  "language_info": {
   "codemirror_mode": {
    "name": "ipython",
    "version": 3
   },
   "file_extension": ".py",
   "mimetype": "text/x-python",
   "name": "python",
   "nbconvert_exporter": "python",
   "pygments_lexer": "ipython3",
   "version": "3.7.4"
  }
 },
 "nbformat": 4,
 "nbformat_minor": 2
}
